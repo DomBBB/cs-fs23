{
 "cells": [
  {
   "cell_type": "markdown",
   "metadata": {},
   "source": [
    "# Notebook 6"
   ]
  },
  {
   "cell_type": "markdown",
   "metadata": {},
   "source": [
    "## Requests"
   ]
  },
  {
   "attachments": {},
   "cell_type": "markdown",
   "metadata": {},
   "source": [
    "Import `requests` to make HTTP requests"
   ]
  },
  {
   "cell_type": "code",
   "execution_count": 1,
   "metadata": {},
   "outputs": [],
   "source": [
    "import requests"
   ]
  },
  {
   "cell_type": "code",
   "execution_count": 2,
   "metadata": {},
   "outputs": [],
   "source": [
    "assert \"json\" in dir()\n",
    "assert \"requests\" in dir()"
   ]
  },
  {
   "cell_type": "markdown",
   "metadata": {},
   "source": [
    "Define the variable `url` being equal to `\"https://httpbin.org/get\"`. Make a `get` request to this url and store the response in the variable `r`. Then store `r.status_code` in the variable `r_status`, `r.raw` in the variable `r_raw`, `r.text` in the variable `r_text` and `r.content` in the variable `r_content`. Check the content of the different variables by printing them. **Do you understand the different outputs?**"
   ]
  },
  {
   "cell_type": "code",
   "execution_count": null,
   "metadata": {},
   "outputs": [
    {
     "data": {
      "text/plain": [
       "b'{\\n  \"args\": {}, \\n  \"headers\": {\\n    \"Accept\": \"*/*\", \\n    \"Accept-Encoding\": \"gzip, deflate, br\", \\n    \"Host\": \"httpbin.org\", \\n    \"User-Agent\": \"python-requests/2.27.1\", \\n    \"X-Amzn-Trace-Id\": \"Root=1-635ba105-635781757c85cedb31a68836\"\\n  }, \\n  \"origin\": \"130.82.26.25\", \\n  \"url\": \"https://httpbin.org/get\"\\n}\\n'"
      ]
     },
     "execution_count": 11,
     "metadata": {},
     "output_type": "execute_result"
    }
   ],
   "source": []
  },
  {
   "cell_type": "code",
   "execution_count": 12,
   "metadata": {},
   "outputs": [],
   "source": [
    "assert r_status == 200\n",
    "assert repr(type(r_raw)) == \"<class 'urllib3.response.HTTPResponse'>\"\n",
    "assert r_text.startswith(\"{\\n\")\n",
    "assert repr(r_content).startswith(\"b\\'\")"
   ]
  },
  {
   "cell_type": "markdown",
   "metadata": {},
   "source": [
    "Now use `r.json()` to parse the content and store the result in the variable `content`. Print the content to understand the structure and then store the `origin` in a variable called `origin`."
   ]
  },
  {
   "cell_type": "code",
   "execution_count": 15,
   "metadata": {},
   "outputs": [
    {
     "name": "stdout",
     "output_type": "stream",
     "text": [
      "{'args': {}, 'headers': {'Accept': '*/*', 'Accept-Encoding': 'gzip, deflate, br', 'Host': 'httpbin.org', 'User-Agent': 'python-requests/2.27.1', 'X-Amzn-Trace-Id': 'Root=1-635ba105-635781757c85cedb31a68836'}, 'origin': '130.82.26.25', 'url': 'https://httpbin.org/get'}\n",
      "130.82.26.25\n"
     ]
    }
   ],
   "source": []
  },
  {
   "cell_type": "code",
   "execution_count": 16,
   "metadata": {},
   "outputs": [],
   "source": [
    "assert int(origin[0:2])"
   ]
  },
  {
   "cell_type": "markdown",
   "metadata": {},
   "source": [
    "Define the variable `link` being equal to `https://httpbin.org/get`. Also define a dictionary called `parameters` with the key-value pairs `\"user\":\"Dominik\"` and `\"passwd\":\"Test\"`. Now make a `get` request to this url and pass the given parameters. Store the response in the variable `res` and print `res.json()`. **Do you understand the new url?**"
   ]
  },
  {
   "cell_type": "code",
   "execution_count": 17,
   "metadata": {},
   "outputs": [
    {
     "data": {
      "text/plain": [
       "{'args': {'passwd': 'Test', 'user': 'Dominik'},\n",
       " 'headers': {'Accept': '*/*',\n",
       "  'Accept-Encoding': 'gzip, deflate, br',\n",
       "  'Host': 'httpbin.org',\n",
       "  'User-Agent': 'python-requests/2.27.1',\n",
       "  'X-Amzn-Trace-Id': 'Root=1-635ba1f5-48273e5724a31c885e0ec4c7'},\n",
       " 'origin': '130.82.26.25',\n",
       " 'url': 'https://httpbin.org/get?user=Dominik&passwd=Test'}"
      ]
     },
     "execution_count": 17,
     "metadata": {},
     "output_type": "execute_result"
    }
   ],
   "source": []
  },
  {
   "cell_type": "code",
   "execution_count": 18,
   "metadata": {},
   "outputs": [],
   "source": [
    "assert res.json()[\"url\"] == \"https://httpbin.org/get?user=Dominik&passwd=Test\""
   ]
  },
  {
   "cell_type": "markdown",
   "metadata": {},
   "source": [
    "Define the variable `url2` being equal to `https://httpbin.org/bearer`. Also define a dictionary `my_bearerkey` with the key-value pair `\"Authorization\": \"Bearer 123\"`. Store the response in the variable `result` and print `result.json()`. **Do you understand the difference between Headers and Params?**"
   ]
  },
  {
   "cell_type": "code",
   "execution_count": 20,
   "metadata": {},
   "outputs": [
    {
     "data": {
      "text/plain": [
       "{'authenticated': True, 'token': '123'}"
      ]
     },
     "execution_count": 20,
     "metadata": {},
     "output_type": "execute_result"
    }
   ],
   "source": []
  },
  {
   "cell_type": "code",
   "execution_count": 21,
   "metadata": {},
   "outputs": [],
   "source": [
    "assert result.json()[\"authenticated\"] == True"
   ]
  }
 ],
 "metadata": {
  "kernelspec": {
   "display_name": "Python 3",
   "language": "python",
   "name": "python3"
  },
  "language_info": {
   "codemirror_mode": {
    "name": "ipython",
    "version": 3
   },
   "file_extension": ".py",
   "mimetype": "text/x-python",
   "name": "python",
   "nbconvert_exporter": "python",
   "pygments_lexer": "ipython3",
   "version": "3.8.5"
  }
 },
 "nbformat": 4,
 "nbformat_minor": 4
}
